{
 "cells": [
  {
   "cell_type": "markdown",
   "id": "a93e62b3",
   "metadata": {},
   "source": [
    "# 2. Probability\n",
    "\n",
    "Here we provide some examples of probability using scipy.\n",
    "\n",
    "Copyright:"
   ]
  },
  {
   "cell_type": "markdown",
   "id": "6d770fa4",
   "metadata": {},
   "source": [
    "## 1. Poisson distribution\n",
    "\n",
    "scipy.stats.poisson = <scipy.stats.*_discrete_distns.poisson_gen object*>\n",
    "\n",
    "A Poisson discrete random variable.\n",
    "\n",
    "As an instance of the rv_discrete class, poisson object inherits from it a collection of generic methods (see below for the full list), and completes them with details specific for this particular distribution.\n",
    "\n",
    "https://docs.scipy.org/doc/scipy/reference/generated/scipy.stats.poisson.html"
   ]
  },
  {
   "cell_type": "code",
   "execution_count": 22,
   "id": "750cd7a2",
   "metadata": {},
   "outputs": [],
   "source": [
    "from scipy.stats import poisson\n",
    "import matplotlib.pyplot as plt\n",
    "import numpy as np\n",
    "\n",
    "# prepare the figure canvas\n",
    "fig, ax = plt.subplots(1, 1)\n",
    "\n",
    "# display all the plots inline\n",
    "%matplotlib inline "
   ]
  },
  {
   "cell_type": "code",
   "execution_count": 23,
   "id": "37c00a7a",
   "metadata": {},
   "outputs": [],
   "source": [
    "mu = 0.6\n",
    "mean, var, skew, kurt = poisson.stats(mu, moments='mvsk')"
   ]
  },
  {
   "cell_type": "code",
   "execution_count": 24,
   "id": "2f55a264",
   "metadata": {},
   "outputs": [],
   "source": [
    "# display the probability mass function (pmf):\n",
    "x = np.arange(poisson.ppf(0.01, mu), poisson.ppf(0.99, mu))\n",
    "ax.plot(x, poisson.pmf(x, mu), 'bo', ms=8, label='poisson pmf')\n",
    "ax.vlines(x, 0, poisson.pmf(x, mu), colors='b', lw=5, alpha=0.5)\n",
    "\n",
    "# display all the plots inline\n",
    "%matplotlib inline "
   ]
  },
  {
   "cell_type": "code",
   "execution_count": 26,
   "id": "39308cec",
   "metadata": {},
   "outputs": [],
   "source": [
    "# Alternatively, the distribution object can be called (as a function) \n",
    "# to fix the shape and location. \n",
    "# This returns a “frozen” RV object holding the given parameters fixed.\n",
    "\n",
    "# Freeze the distribution and display the frozen pmf:\n",
    "rv = poisson(mu)\n",
    "ax.vlines(x, 0, rv.pmf(x), colors='k', linestyles='-', lw=1, label='frozen pmf')\n",
    "ax.legend(loc='best', frameon=False)\n",
    "\n",
    "# display all the plots inline\n",
    "%matplotlib inline \n",
    "\n",
    "plt.show()"
   ]
  },
  {
   "cell_type": "code",
   "execution_count": 20,
   "id": "0ca7bc2a",
   "metadata": {},
   "outputs": [
    {
     "data": {
      "text/plain": [
       "True"
      ]
     },
     "execution_count": 20,
     "metadata": {},
     "output_type": "execute_result"
    }
   ],
   "source": [
    "# Check accuracy of cdf and ppf:\n",
    "prob = poisson.cdf(x, mu)\n",
    "np.allclose(x, poisson.ppf(prob, mu))"
   ]
  },
  {
   "cell_type": "code",
   "execution_count": 21,
   "id": "30d7857b",
   "metadata": {},
   "outputs": [],
   "source": [
    "# Generate random numbers:\n",
    "r = poisson.rvs(mu, size=1000)"
   ]
  },
  {
   "cell_type": "markdown",
   "id": "d92a568b",
   "metadata": {},
   "source": [
    "## 2. Binomial distribution\n",
    "\n",
    "scipy.stats.binom = <scipy.stats.*_discrete_distns.binom_gen object*>\n",
    "\n",
    "A binomial discrete random variable.\n",
    "\n",
    "As an instance of the rv_discrete class, binom object inherits from it a collection of generic methods (see below for the full list), and completes them with details specific for this particular distribution.\n",
    "\n",
    "https://docs.scipy.org/doc/scipy/reference/generated/scipy.stats.binom.html"
   ]
  },
  {
   "cell_type": "code",
   "execution_count": null,
   "id": "3ce3a1e7",
   "metadata": {},
   "outputs": [],
   "source": [
    "n, p = 5, 0.4\n",
    "mean, var, skew, kurt = binom.stats(n, p, moments='mvsk')\n",
    "\n",
    "# display the probability mass function (pmf):\n",
    "x = np.arange(binom.ppf(0.01, n, p), binom.ppf(0.99, n, p))\n",
    "ax.plot(x, binom.pmf(x, n, p), 'bo', ms=8, label='binom pmf')\n",
    "ax.vlines(x, 0, binom.pmf(x, n, p), colors='b', lw=5, alpha=0.5)"
   ]
  },
  {
   "cell_type": "code",
   "execution_count": null,
   "id": "1df0f55c",
   "metadata": {},
   "outputs": [],
   "source": [
    "# Freeze the distribution and display the frozen pmf:\n",
    "rv = binom(n, p)\n",
    "ax.vlines(x, 0, rv.pmf(x), colors='k', linestyles='-', lw=1, label='frozen pmf')\n",
    "ax.legend(loc='best', frameon=False)\n",
    "plt.show()"
   ]
  },
  {
   "cell_type": "code",
   "execution_count": null,
   "id": "1d8ba234",
   "metadata": {},
   "outputs": [],
   "source": [
    "# Check accuracy of cdf and ppf:\n",
    "prob = binom.cdf(x, n, p)\n",
    "np.allclose(x, binom.ppf(prob, n, p))"
   ]
  },
  {
   "cell_type": "code",
   "execution_count": null,
   "id": "273da15c",
   "metadata": {},
   "outputs": [],
   "source": [
    "# Generate random numbers:\n",
    "r = binom.rvs(n, p, size=1000)"
   ]
  }
 ],
 "metadata": {
  "kernelspec": {
   "display_name": "Python 3",
   "language": "python",
   "name": "python3"
  },
  "language_info": {
   "codemirror_mode": {
    "name": "ipython",
    "version": 3
   },
   "file_extension": ".py",
   "mimetype": "text/x-python",
   "name": "python",
   "nbconvert_exporter": "python",
   "pygments_lexer": "ipython3",
   "version": "3.9.1"
  }
 },
 "nbformat": 4,
 "nbformat_minor": 5
}
