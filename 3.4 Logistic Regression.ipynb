{
 "cells": [
  {
   "cell_type": "markdown",
   "id": "8958f5e1",
   "metadata": {},
   "source": [
    "# 3.4 Logistic Regression\n",
    "\n",
    "Here we provide some examples of logistic regression using sklearn: https://scikit-learn.org/stable/modules/generated/sklearn.linear_model.LogisticRegression.html\n",
    "\n",
    "Copyright:"
   ]
  },
  {
   "cell_type": "markdown",
   "id": "e6f44af0",
   "metadata": {},
   "source": [
    "## 1. Breast cancer dataset "
   ]
  },
  {
   "cell_type": "code",
   "execution_count": 1,
   "id": "f437e0e1",
   "metadata": {},
   "outputs": [
    {
     "data": {
      "text/plain": [
       "(569, 30)"
      ]
     },
     "execution_count": 1,
     "metadata": {},
     "output_type": "execute_result"
    }
   ],
   "source": [
    "from sklearn.linear_model import LogisticRegression as LR\n",
    "from sklearn.datasets import load_breast_cancer\n",
    "from sklearn.datasets import load_iris\n",
    "import numpy as np\n",
    "import matplotlib.pyplot as plt\n",
    "from sklearn.model_selection import train_test_split\n",
    "from sklearn.metrics import accuracy_score\n",
    " \n",
    "# breast cancer dataset    \n",
    "data = load_breast_cancer()\n",
    "X = data.data\n",
    "y = data.target\n",
    "X.data.shape"
   ]
  },
  {
   "cell_type": "code",
   "execution_count": 2,
   "id": "a7b20779",
   "metadata": {},
   "outputs": [
    {
     "data": {
      "text/plain": [
       "array([[ 1.61520498e+00,  1.03165077e-01,  4.89949912e-02,\n",
       "        -4.54501839e-03, -9.48008442e-02, -3.01421091e-01,\n",
       "        -4.56859977e-01, -2.23258644e-01, -1.36553775e-01,\n",
       "        -1.93906452e-02,  1.51863698e-02,  8.84898768e-01,\n",
       "         1.16165402e-01, -9.44763010e-02, -9.89655843e-03,\n",
       "        -2.29725881e-02, -5.65958129e-02, -2.71050978e-02,\n",
       "        -2.78528014e-02,  3.23039398e-04,  1.25588920e+00,\n",
       "        -3.02228846e-01, -1.72470625e-01, -2.21057469e-02,\n",
       "        -1.74443731e-01, -8.78235976e-01, -1.16396035e+00,\n",
       "        -4.29422429e-01, -4.23200446e-01, -8.69294093e-02]])"
      ]
     },
     "execution_count": 2,
     "metadata": {},
     "output_type": "execute_result"
    }
   ],
   "source": [
    "lrl1 = LR(penalty=\"l1\",solver=\"liblinear\",C=0.5,max_iter=1000)\n",
    "lrl1 = lrl1.fit(X,y)\n",
    "lrl1.coef_\n",
    "\n",
    "(lrl1.coef_ != 0).sum(axis=1)#array([10])  \n",
    "\n",
    "lrl2 = LR(penalty=\"l2\",solver=\"liblinear\",C=0.5,max_iter=1000)\n",
    "lrl2 = lrl2.fit(X,y)\n",
    "lrl2.coef_"
   ]
  },
  {
   "cell_type": "markdown",
   "id": "77143219",
   "metadata": {},
   "source": [
    "## 2. Iris dataset"
   ]
  },
  {
   "cell_type": "code",
   "execution_count": 3,
   "id": "dbe44d18",
   "metadata": {},
   "outputs": [
    {
     "name": "stderr",
     "output_type": "stream",
     "text": [
      "/Users/apple/miniconda3/lib/python3.9/site-packages/sklearn/linear_model/_logistic.py:763: ConvergenceWarning: lbfgs failed to converge (status=1):\n",
      "STOP: TOTAL NO. of ITERATIONS REACHED LIMIT.\n",
      "\n",
      "Increase the number of iterations (max_iter) or scale the data as shown in:\n",
      "    https://scikit-learn.org/stable/modules/preprocessing.html\n",
      "Please also refer to the documentation for alternative solver options:\n",
      "    https://scikit-learn.org/stable/modules/linear_model.html#logistic-regression\n",
      "  n_iter_i = _check_optimize_result(\n"
     ]
    },
    {
     "data": {
      "text/plain": [
       "0.9733333333333334"
      ]
     },
     "execution_count": 3,
     "metadata": {},
     "output_type": "execute_result"
    }
   ],
   "source": [
    "# load the data\n",
    "X, y = load_iris(return_X_y=True)\n",
    "\n",
    "# fit the data to the LR model\n",
    "clf = LR(random_state=0).fit(X, y)\n",
    "\n",
    "# give predictions\n",
    "clf.predict(X[:2, :])"
   ]
  },
  {
   "cell_type": "code",
   "execution_count": null,
   "id": "2bef3b16",
   "metadata": {},
   "outputs": [],
   "source": [
    "clf.predict_proba(X[:2, :])"
   ]
  },
  {
   "cell_type": "code",
   "execution_count": null,
   "id": "96a37403",
   "metadata": {},
   "outputs": [],
   "source": [
    "clf.score(X, y)"
   ]
  }
 ],
 "metadata": {
  "kernelspec": {
   "display_name": "Python 3",
   "language": "python",
   "name": "python3"
  },
  "language_info": {
   "codemirror_mode": {
    "name": "ipython",
    "version": 3
   },
   "file_extension": ".py",
   "mimetype": "text/x-python",
   "name": "python",
   "nbconvert_exporter": "python",
   "pygments_lexer": "ipython3",
   "version": "3.9.1"
  }
 },
 "nbformat": 4,
 "nbformat_minor": 5
}
