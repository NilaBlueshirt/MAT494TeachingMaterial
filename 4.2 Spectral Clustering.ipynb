{
 "cells": [
  {
   "cell_type": "markdown",
   "id": "fd7bde24",
   "metadata": {},
   "source": [
    "# 4.2 Spectral Clustering\n",
    "\n",
    "Here we provide some examples of spectral clustering using scikit learn: \n",
    "\n",
    "https://scikit-learn.org/stable/modules/generated/sklearn.cluster.SpectralClustering.html\n",
    "\n",
    "Copyright:"
   ]
  },
  {
   "cell_type": "code",
   "execution_count": null,
   "id": "c76792ec",
   "metadata": {},
   "outputs": [],
   "source": [
    "# import libraries\n",
    "import numpy as np\n",
    "import scipy\n",
    "import pandas as pd\n",
    "from itertools import cycle\n",
    "import matplotlib.pyplot as plt\n",
    "\n",
    "from sklearn.cluster import KMeans\n",
    "from sklearn.datasets.samples_generator import make_blobs\n",
    "from sklearn.cluster import SpectralClustering\n",
    "from sklearn.preprocessing import StandardScaler, normalize\n",
    "from sklearn.decomposition import PCA\n",
    "from sklearn.metrics import silhouette_score\n",
    "from sklearn import metrics"
   ]
  },
  {
   "cell_type": "markdown",
   "id": "780a24d8",
   "metadata": {},
   "source": [
    "## 1. From Laplacian to Clustering"
   ]
  },
  {
   "cell_type": "code",
   "execution_count": null,
   "id": "98e98370",
   "metadata": {},
   "outputs": [],
   "source": [
    "# Computes the symetric normalized laplacian\n",
    "# L = D^{-1/2} A D{-1/2}\n",
    "def laplacian(A):\n",
    "    D = numpy.zeros(A.shape)\n",
    "    w = numpy.sum(A, axis=0)\n",
    "    D.flat[::len(w) + 1] = w ** (-0.5)  # set the diag of D to w\n",
    "    return D.dot(A).dot(D)\n",
    "\n",
    "def k_means(X, n_clusters):\n",
    "    kmeans = KMeans(n_clusters=n_clusters, random_state=1231)\n",
    "    return kmeans.fit(X).labels_\n",
    "\n",
    "def spectral_clustering(affinity, n_clusters, cluster_method=k_means):\n",
    "    L = laplacian(affinity)\n",
    "    eig_val, eig_vect = scipy.sparse.linalg.eigs(L, n_clusters)\n",
    "    X = eig_vect.real\n",
    "    rows_norm = numpy.linalg.norm(X, axis=1, ord=2)\n",
    "    Y = (X.T / rows_norm).T\n",
    "    labels = cluster_method(Y, n_clusters)\n",
    "    return labels"
   ]
  },
  {
   "cell_type": "markdown",
   "id": "064b0c7b",
   "metadata": {},
   "source": [
    "## 2. Use sklearn Functions"
   ]
  },
  {
   "cell_type": "code",
   "execution_count": null,
   "id": "743e43cc",
   "metadata": {},
   "outputs": [],
   "source": [
    "# Center for generating random data.\n",
    "centers = [[1, 1], [-1, -1], [1, -1]]\n",
    "\n",
    "# The number of data generated.\n",
    "n_samples=3000\n",
    "\n",
    "# Generate data.\n",
    "X, lables_true = make_blobs(n_samples=n_samples, centers= centers, cluster_std=0.6, \n",
    "                  random_state =0)\n",
    " \n",
    "# Transform to a matrix, the input has to be symmetric.\n",
    "metrics_metrix = (-1 * metrics.pairwise.pairwise_distances(X)).astype(np.int32)\n",
    "metrics_metrix += -1 * metrics_metrix.min()\n",
    "\n",
    "# Set spectral clustering function.\n",
    "n_clusters_= 4\n",
    "lables = spectral_clustering(metrics_metrix,n_clusters=n_clusters_)\n",
    "\n",
    "# Visualization of results\n",
    "plt.figure(1)\n",
    "plt.clf()\n",
    "colors = cycle('bgrcmykbgrcmykbgrcmykbgrcmyk')\n",
    "for k, col in zip(range(n_clusters_), colors):\n",
    "    # Reassembles an array of True and False based on whether the values in lables are equal to k.\n",
    "    my_members = lables == k\n",
    "    plt.plot(X[my_members, 0], X[my_members, 1], col + '.')\n",
    "    \n",
    "plt.title('Estimated number of clusters: %d' % n_clusters_)\n",
    "plt.show()"
   ]
  },
  {
   "cell_type": "markdown",
   "id": "7a05fa93",
   "metadata": {},
   "source": [
    "## 3. Kaggle Credit Card Dataset\n",
    "\n",
    "Please download the dataset firs: https://www.kaggle.com/arjunbhasin2013/ccdata\n",
    "\n",
    "Before loading the data, please change the file name to avoid blanks, and put it under the working path."
   ]
  },
  {
   "cell_type": "markdown",
   "id": "0717f09d",
   "metadata": {},
   "source": [
    "## 3.1 Preprocessing"
   ]
  },
  {
   "cell_type": "code",
   "execution_count": null,
   "id": "8de7d84e",
   "metadata": {},
   "outputs": [],
   "source": [
    "# Load the data via relative path\n",
    "X = pd.read_csv('../textbook/CC_GENERAL.csv')\n",
    "  \n",
    "# Dropping the CUST_ID column from the data\n",
    "X = X.drop('CUST_ID', axis = 1)\n",
    "  \n",
    "# Handling the missing values if any\n",
    "X.fillna(method ='ffill', inplace = True)\n",
    "  \n",
    "X.head()"
   ]
  },
  {
   "cell_type": "code",
   "execution_count": null,
   "id": "03a34fce",
   "metadata": {},
   "outputs": [],
   "source": [
    "# Preprocessing the data to make it visualizable\n",
    "\n",
    "# Scaling the Data\n",
    "scaler = StandardScaler()\n",
    "X_scaled = scaler.fit_transform(X)\n",
    "\n",
    "# Normalizing the Data\n",
    "X_normalized = normalize(X_scaled)\n",
    "\n",
    "# Converting the numpy array into a pandas DataFrame\n",
    "X_normalized = pd.DataFrame(X_normalized)\n",
    "\n",
    "# Reducing the dimensions of the data\n",
    "pca = PCA(n_components = 2)\n",
    "X_principal = pca.fit_transform(X_normalized)\n",
    "X_principal = pd.DataFrame(X_principal)\n",
    "X_principal.columns = ['P1', 'P2']\n",
    "\n",
    "X_principal.head()"
   ]
  },
  {
   "cell_type": "markdown",
   "id": "2b2429e6",
   "metadata": {},
   "source": [
    "## 3.2 Build the model"
   ]
  },
  {
   "cell_type": "code",
   "execution_count": null,
   "id": "af29c3de",
   "metadata": {},
   "outputs": [],
   "source": [
    "# Building the clustering model\n",
    "spectral_model_rbf = SpectralClustering(n_clusters = 2, affinity ='rbf')\n",
    "\n",
    "# Training the model and Storing the predicted cluster labels\n",
    "labels_rbf = spectral_model_rbf.fit_predict(X_principal)"
   ]
  },
  {
   "cell_type": "markdown",
   "id": "816dd592",
   "metadata": {},
   "source": [
    "**(1) affinity = ‘rbf’**"
   ]
  },
  {
   "cell_type": "code",
   "execution_count": null,
   "id": "3f52060d",
   "metadata": {},
   "outputs": [],
   "source": [
    "# Building the label to colour mapping\n",
    "colours = {}\n",
    "colours[0] = 'b'\n",
    "colours[1] = 'y'\n",
    "\n",
    "# Building the colour vector for each data point\n",
    "cvec = [colours[label] for label in labels_rbf]\n",
    "\n",
    "# Plotting the clustered scatter plot\n",
    "\n",
    "b = plt.scatter(X_principal['P1'], X_principal['P2'], color ='b');\n",
    "y = plt.scatter(X_principal['P1'], X_principal['P2'], color ='y');\n",
    "\n",
    "plt.figure(figsize =(9, 9))\n",
    "plt.scatter(X_principal['P1'], X_principal['P2'], c = cvec)\n",
    "plt.legend((b, y), ('Label 0', 'Label 1'))\n",
    "plt.show()"
   ]
  },
  {
   "cell_type": "markdown",
   "id": "2f95991e",
   "metadata": {},
   "source": [
    "**(2) affinity = ‘nearest_neighbors’**"
   ]
  },
  {
   "cell_type": "code",
   "execution_count": null,
   "id": "03e759f4",
   "metadata": {},
   "outputs": [],
   "source": [
    "# Building the clustering model\n",
    "spectral_model_nn = SpectralClustering(n_clusters = 2, affinity ='nearest_neighbors')\n",
    "\n",
    "# Training the model and Storing the predicted cluster labels\n",
    "labels_nn = spectral_model_nn.fit_predict(X_principal)"
   ]
  },
  {
   "cell_type": "markdown",
   "id": "c0c06712",
   "metadata": {},
   "source": [
    "## 3.3 Evaluate the Performance"
   ]
  },
  {
   "cell_type": "code",
   "execution_count": null,
   "id": "f933a7d6",
   "metadata": {},
   "outputs": [],
   "source": [
    "# List of different values of affinity\n",
    "affinity = ['rbf', 'nearest-neighbours']\n",
    "\n",
    "# List of Silhouette Scores\n",
    "s_scores = []\n",
    "\n",
    "# Evaluating the performance\n",
    "s_scores.append(silhouette_score(X, labels_rbf))\n",
    "s_scores.append(silhouette_score(X, labels_nn))\n",
    "\n",
    "print(s_scores)"
   ]
  },
  {
   "cell_type": "code",
   "execution_count": null,
   "id": "f811af49",
   "metadata": {},
   "outputs": [],
   "source": [
    "# Plotting a Bar Graph to compare the models\n",
    "plt.bar(affinity, s_scores)\n",
    "plt.xlabel('Affinity')\n",
    "plt.ylabel('Silhouette Score')\n",
    "plt.title('Comparison of different Clustering Models')\n",
    "plt.show()"
   ]
  }
 ],
 "metadata": {
  "kernelspec": {
   "display_name": "Python 3",
   "language": "python",
   "name": "python3"
  },
  "language_info": {
   "codemirror_mode": {
    "name": "ipython",
    "version": 3
   },
   "file_extension": ".py",
   "mimetype": "text/x-python",
   "name": "python",
   "nbconvert_exporter": "python",
   "pygments_lexer": "ipython3",
   "version": "3.9.1"
  }
 },
 "nbformat": 4,
 "nbformat_minor": 5
}
